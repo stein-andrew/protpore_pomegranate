{
 "cells": [
  {
   "cell_type": "markdown",
   "id": "23cca744-be7e-41d6-a68b-fb96811d8167",
   "metadata": {},
   "source": [
    "### Begin with importing Pomegranate"
   ]
  },
  {
   "cell_type": "code",
   "execution_count": 2,
   "id": "f033fa9f-e7ad-4231-a10f-e7ea83916778",
   "metadata": {},
   "outputs": [
    {
     "name": "stdout",
     "output_type": "stream",
     "text": [
      "numpy      : 2.0.2\n",
      "scipy      : 1.14.1\n",
      "torch      : 2.4.0\n",
      "pomegranate: 1.0.0\n",
      "\n",
      "Compiler    : Clang 16.0.6 \n",
      "OS          : Darwin\n",
      "Release     : 23.6.0\n",
      "Machine     : arm64\n",
      "Processor   : arm\n",
      "CPU cores   : 11\n",
      "Architecture: 64bit\n",
      "\n"
     ]
    }
   ],
   "source": [
    "%matplotlib inline\n",
    "import seaborn; seaborn.set_style('whitegrid')\n",
    "import numpy\n",
    "import torch\n",
    "\n",
    "numpy.random.seed(0)\n",
    "numpy.set_printoptions(suppress=True)\n",
    "\n",
    "%load_ext watermark\n",
    "%watermark -m -n -p numpy,scipy,torch,pomegranate"
   ]
  },
  {
   "cell_type": "code",
   "execution_count": null,
   "id": "03e12d98-7da6-4bc0-a736-c86560d4b4ce",
   "metadata": {},
   "outputs": [],
   "source": [
    "from pomegranate.distributions import Normal, Uniform\n",
    "from pomegranate.hmm import DenseHMM\n",
    "\n",
    "# "
   ]
  }
 ],
 "metadata": {
  "kernelspec": {
   "display_name": "Python 3 (ipykernel)",
   "language": "python",
   "name": "python3"
  },
  "language_info": {
   "codemirror_mode": {
    "name": "ipython",
    "version": 3
   },
   "file_extension": ".py",
   "mimetype": "text/x-python",
   "name": "python",
   "nbconvert_exporter": "python",
   "pygments_lexer": "ipython3",
   "version": "3.12.5"
  }
 },
 "nbformat": 4,
 "nbformat_minor": 5
}
